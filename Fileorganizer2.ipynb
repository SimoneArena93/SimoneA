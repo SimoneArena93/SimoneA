{
 "cells": [
  {
   "cell_type": "markdown",
   "id": "cc12e709",
   "metadata": {},
   "source": [
    "Lo script seguente itera in ordine alfabetico i file inseriti nella cartella \"files\" e, a seconda del tipo, li sposta nella relativa sottocartella. Se la sottocartella non esiste lo script la crea automaticamente. Viene anche creato un file \"recap.csv\" in cui ogni volta che viene spostato un file viene aggiornato con il relativo nome, tipo e dimensione."
   ]
  },
  {
   "cell_type": "code",
   "execution_count": 4,
   "id": "7ded625f",
   "metadata": {},
   "outputs": [],
   "source": [
    "import os\n",
    "import shutil\n",
    "import csv"
   ]
  },
  {
   "cell_type": "code",
   "execution_count": 5,
   "id": "42f9249a",
   "metadata": {},
   "outputs": [],
   "source": [
    "#mi sposto nella cartella files\n",
    "os.chdir('files')"
   ]
  },
  {
   "cell_type": "code",
   "execution_count": 6,
   "id": "0058a161",
   "metadata": {},
   "outputs": [],
   "source": [
    "#creo le sottocartelle\n",
    "for dirname in ['audio', 'docs', 'images']:\n",
    "    if not os.path.exists(dirname):#...se queste non esistono\n",
    "        os.makedirs(dirname)\n",
    "\n",
    "#creo liste formati accettati\n",
    "img_exts = ['.jpeg', '.jpg', '.png']\n",
    "doc_exts = ['.txt', '.odt']\n",
    "audio_exts = ['.mp3']\n",
    "\n",
    "#se il file di recap non esiste creo il file di recap, se esiste già lo apro\n",
    "if not os.path.exists('recap.csv'):\n",
    "    recap = open('recap.csv', 'w', newline='')#lo creo: 'w' sta per 'write'\n",
    "    writer = csv.writer(recap)\n",
    "    writer.writerow(['name', 'type', 'size (B)'])#scrivo header del csv\n",
    "else:\n",
    "    recap = open('recap.csv', 'a', newline='')#lo apro in 'append' con 'a'\n",
    "    writer = csv.writer(recap)"
   ]
  },
  {
   "cell_type": "code",
   "execution_count": 7,
   "id": "5d9b3eae",
   "metadata": {},
   "outputs": [
    {
     "name": "stdout",
     "output_type": "stream",
     "text": [
      "Formato non riconosciuto.\n",
      "Formato non riconosciuto.\n",
      "Formato non riconosciuto.\n",
      "Formato non riconosciuto.\n"
     ]
    }
   ],
   "source": [
    "#creo le sottocartelle...\n",
    "for dirname in ['audio', 'docs', 'images']:\n",
    "    if not os.path.exists(dirname):#...se queste non esistono\n",
    "        os.makedirs(dirname)\n",
    "\n",
    "#creo liste formati accettati\n",
    "img_exts = ['.jpeg', '.jpg', '.png']\n",
    "doc_exts = ['.txt', '.odt']\n",
    "audio_exts = ['.mp3']\n",
    "\n",
    "#se il file di recap...\n",
    "if not os.path.exists('recap.csv'):#...non esiste\n",
    "    recap = open('recap.csv', 'w', newline='')#lo creo: 'w' sta per 'write'\n",
    "    writer = csv.writer(recap)\n",
    "    writer.writerow(['name', 'type', 'size (B)'])#scrivo header del csv\n",
    "else:#...esiste già\n",
    "    recap = open('recap.csv', 'a', newline='')#lo apro in 'append' con 'a'\n",
    "    writer = csv.writer(recap)\n",
    "    \n",
    "#itero dentro cartella corrente (cioè files: mi sono spostato dentro all'inizio)\n",
    "for f in sorted(os.listdir('.')):\n",
    "    \n",
    "    #separo il nome del file dall'estensione\n",
    "    name, ext = os.path.splitext(f)\n",
    "    \n",
    "    if ext in img_exts:#check estensione\n",
    "        size = os.path.getsize(f)#calcolo dimensione in byte\n",
    "        print(f'{name} type:image size:{size}B')#stampo info\n",
    "        writer.writerow([name, 'image', size])#aggiorno recap\n",
    "        shutil.move(f, 'images/')#sposto in sottocartella\n",
    "        \n",
    "    elif ext in doc_exts:\n",
    "        size = os.path.getsize(f)\n",
    "        print(f'{name} type:doc size:{size}B')\n",
    "        writer.writerow([name, 'doc', size])\n",
    "        shutil.move(f, 'docs/')\n",
    "        \n",
    "    elif ext in audio_exts:\n",
    "        size = os.path.getsize(f)\n",
    "        print(f'{name} type:audio size:{size}B')\n",
    "        writer.writerow([name, 'audio', size])\n",
    "        shutil.move(f, 'audio/')\n",
    "        \n",
    "    else:\n",
    "        print('Formato non riconosciuto.')\n",
    "    \n",
    "recap.close()"
   ]
  },
  {
   "cell_type": "markdown",
   "id": "84afb9f6",
   "metadata": {},
   "source": [
    "Il seguente script itera invece sulla cartella immagini e costruisce una tabella riassuntiva contentente le informazioni di colore dei file."
   ]
  },
  {
   "cell_type": "code",
   "execution_count": 8,
   "id": "321768f7",
   "metadata": {},
   "outputs": [],
   "source": [
    "import numpy as np\n",
    "from PIL import Image\n",
    "from tabulate import tabulate"
   ]
  },
  {
   "cell_type": "code",
   "execution_count": 9,
   "id": "82f0b972",
   "metadata": {},
   "outputs": [
    {
     "name": "stdout",
     "output_type": "stream",
     "text": [
      "╒════════╤══════════╤═════════╤═════════════╤════════╤════════╤════════╤═════════╕\n",
      "│ name   │   height │   width │   grayscale │      R │      G │      B │   ALPHA │\n",
      "╞════════╪══════════╪═════════╪═════════════╪════════╪════════╪════════╪═════════╡\n",
      "│ Casa   │     1080 │    1920 │           0 │ 109.71 │ 111.40 │ 108.07 │       0 │\n",
      "╘════════╧══════════╧═════════╧═════════════╧════════╧════════╧════════╧═════════╛\n"
     ]
    }
   ],
   "source": [
    "table = []#creo tabella per tabulate\n",
    "\n",
    "#ciclo dentro sottocartella images,carico l'immagine e la trasformo in numpy array\n",
    "for f in sorted(os.listdir('images')):\n",
    "    \n",
    "    img = Image.open(os.path.join('images', f))#uso join per costruire nome file relativo a sottocartella\n",
    "    img_array = np.array(img)\n",
    "    \n",
    "    #calcolo altezza e larghezza\n",
    "    pixel_y, pixel_x = img_array.shape[:2]\n",
    "    \n",
    "    #caso scala di grigio\n",
    "    if img_array.ndim == 2:  \n",
    "        mean_gs = img_array.mean()#media dei valori dell'unico livello\n",
    "        mean_r, mean_g, mean_b = 0, 0, 0#non esistono altri livelli\n",
    "        mean_alpha = 0\n",
    "        \n",
    "    #caso RGB o RGBA: ho una dimensione aggiuntiva per i canali di colore (e quello di trasparenza)\n",
    "    else:\n",
    "        mean_gs = 0\n",
    "        #calcolo della media per ogni canale:\n",
    "        #- con la prima applicazione di mean faccio la media lungo l'asse y (righe)\n",
    "        #- con la seconda, faccio la media lungo l'asse x (colonne)\n",
    "        #il risultato è un array di 3 (RGB) o 4 (RGBA) numeri, corrispondenti alle\n",
    "        #medie dei valori di ognuno dei 3 canali di colore e, se presente, di quello di trasparenza\n",
    "        channels_mean = img_array.mean(axis=0).mean(axis=0)\n",
    "        if len(channels_mean) == 3:#caso RGB, solo i tre canali di colore\n",
    "            mean_alpha = 0    \n",
    "            mean_r, mean_g, mean_b = channels_mean\n",
    "        else:#caso RGBA, c'è anche il canale di trasparenza\n",
    "            mean_r, mean_g, mean_b, mean_alpha = channels_mean\n",
    "    \n",
    "    #separo nome ed estensione\n",
    "    name, ext = os.path.splitext(f)\n",
    "    #costruisco riga della tabella tabulate\n",
    "    row = [name, pixel_y, pixel_x, mean_gs, mean_r, mean_g, mean_b, mean_alpha]\n",
    "    #aggiungo riga a tabella\n",
    "    table += [row]\n",
    "\n",
    "#stampo tabella tabulate\n",
    "print(tabulate(table,\n",
    "               headers=['name', 'height', 'width', 'grayscale', 'R', 'G', 'B', 'ALPHA'],\n",
    "               tablefmt='fancy_grid',\n",
    "               floatfmt='.2f'))"
   ]
  }
 ],
 "metadata": {
  "kernelspec": {
   "display_name": "Python 3 (ipykernel)",
   "language": "python",
   "name": "python3"
  },
  "language_info": {
   "codemirror_mode": {
    "name": "ipython",
    "version": 3
   },
   "file_extension": ".py",
   "mimetype": "text/x-python",
   "name": "python",
   "nbconvert_exporter": "python",
   "pygments_lexer": "ipython3",
   "version": "3.11.0"
  }
 },
 "nbformat": 4,
 "nbformat_minor": 5
}
