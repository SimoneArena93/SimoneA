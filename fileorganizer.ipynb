{
 "cells": [
  {
   "cell_type": "markdown",
   "id": "18b94439",
   "metadata": {},
   "source": [
    "Lo script seguente itera in ordine alfabetico i file inseriti nella cartella \"files\" e, a seconda del tipo, li sposta nella relativa sottocartella. Se la sottocartella non esiste lo script la crea automaticamente. Viene anche creato un file \"recap.csv\" in cui ogni volta che viene spostato un file viene aggiornato con il relativo nome, tipo e dimensione."
   ]
  },
  {
   "cell_type": "code",
   "execution_count": 6,
   "id": "62534dc0",
   "metadata": {},
   "outputs": [],
   "source": [
    "#Mi sposto fisicamente sulla cartella 'files'\n",
    "\n",
    "import os\n",
    "os.chdir(os.getcwd()+'\\\\fileorganizer\\\\files')"
   ]
  },
  {
   "cell_type": "code",
   "execution_count": 15,
   "id": "14ff5b08",
   "metadata": {},
   "outputs": [
    {
     "name": "stdout",
     "output_type": "stream",
     "text": [
      "bw type:image size:94926\n",
      "ciao type:doc size:12\n",
      "daffodil type:image size:24657\n",
      "eclipse type:image size:64243\n",
      "pippo type:doc size:8299\n",
      "song1 type:audio size:1087849\n",
      "song2 type:audio size:764176\n",
      "trump type:image size:10195\n"
     ]
    }
   ],
   "source": [
    "#Creo una lista dei file presenti nella cartella files\n",
    "\n",
    "files = os.listdir(os.getcwd())\n",
    "\n",
    "#Definisco le variabili del percorso di partenza dei file da spostare e quelle dei percorsi delle future sottocartelle\n",
    "\n",
    "source = os.getcwd()\n",
    "dest_images =source+'\\\\images'\n",
    "dest_docs = source+ '\\\\docs'\n",
    "dest_audio = source+ '\\\\audio'\n",
    "\n",
    "\n",
    "#Creo delle liste dei formati suddivisi per tipo. Non creo la lista \"audio\" visto che è presente un solo formato \"audio\"\n",
    "\n",
    "image = [\".jpg\",\".jpeg\",\".png\"]\n",
    "doc = [\".odt\",\".txt\"]\n",
    "audio = [\".mp3\"]\n",
    "\n",
    "#Creo file recap.csv con '\"name, \"type\", \"size(B)\"' come \"header\" di colonne\n",
    "\n",
    "import shutil\n",
    "import csv\n",
    "with open('recap.csv', 'a',newline='') as recap: \n",
    "    writer = csv.writer(recap) \n",
    "    writer.writerow([\"name\", \"type\", \"size(B)\"])\n",
    "    \n",
    "#Iterando sulla cartella files creo le variabili che mi permettono di stampare le informazioni e di completare il file recap\n",
    "#Confronto l'estensione di ogni file con le liste precedentemente create per ottenere il \"tipo\"\n",
    "#In base all'estensione del file sposto il file dalla cartella di partenza alla sua sottocartella tramite \"shutil.move\"\n",
    "#Se la sottocartella non esiste viene creata tramite \"os.makedirs\"\n",
    "\n",
    "    for file in sorted(files): \n",
    "        nome,est= os.path.splitext(file)\n",
    "        size = os.path.getsize(file)\n",
    "        tipo = \"\"\n",
    "        if est in image:\n",
    "            tipo = \"image\"\n",
    "            print(nome,\"type:{} size:{}\".format(tipo,size))\n",
    "        elif est in doc:\n",
    "            tipo = \"doc\"\n",
    "            print(nome,\"type:{} size:{}\".format(tipo,size))\n",
    "        elif est in audio:\n",
    "            tipo = \"audio\"\n",
    "            print(nome,\"type:{} size:{}\".format(tipo,size))\n",
    "        writer.writerows([[name,tipo,size]]) \n",
    "\n",
    "        if file.endswith(\".png\") or file.endswith(\".jpg\") or file.endswith(\".jpeg\"):\n",
    "            if os.path.exists(dest_images):\n",
    "                shutil.move(source + \"\\\\\" + file, dest_images)\n",
    "            else:\n",
    "                os.makedirs(dest_images)\n",
    "                shutil.move(source + \"\\\\\" + file,dest_images)\n",
    "    \n",
    "        if file.endswith(\".txt\") or file.endswith(\".odt\"):\n",
    "            if os.path.exists(dest_docs):\n",
    "                shutil.move(source + \"\\\\\" + file, dest_docs)\n",
    "            else:\n",
    "                os.makedirs(dest_docs)\n",
    "                shutil.move(source +  \"\\\\\" + file,dest_docs)\n",
    "            \n",
    "        if file.endswith(\".mp3\"):\n",
    "            if os.path.exists(dest_audio):\n",
    "                shutil.move(source + \"\\\\\" + file, dest_audio)\n",
    "            else:\n",
    "                os.makedirs(dest_audio)\n",
    "                shutil.move(source +  \"\\\\\" + file,dest_audio)"
   ]
  },
  {
   "cell_type": "markdown",
   "id": "8de5ca8a",
   "metadata": {},
   "source": [
    "Il seguente script itera invece sulla cartella immagini e costruisce una tabella riassuntiva contentente le informazioni di colore dei file."
   ]
  },
  {
   "cell_type": "code",
   "execution_count": 16,
   "id": "3518ff4f",
   "metadata": {},
   "outputs": [
    {
     "name": "stdout",
     "output_type": "stream",
     "text": [
      "╒══════════╤══════════╤═════════╤═════════════╤════════╤════════╤═══════╤═════════╕\n",
      "│ name     │   height │   width │   grayscale │      R │      G │     B │   ALPHA │\n",
      "╞══════════╪══════════╪═════════╪═════════════╪════════╪════════╪═══════╪═════════╡\n",
      "│ bw       │      512 │     512 │       21.48 │   0.00 │   0.00 │  0.00 │    0.00 │\n",
      "├──────────┼──────────┼─────────┼─────────────┼────────┼────────┼───────┼─────────┤\n",
      "│ daffodil │      500 │     335 │        0.00 │ 109.25 │  85.56 │  4.97 │    0.00 │\n",
      "├──────────┼──────────┼─────────┼─────────────┼────────┼────────┼───────┼─────────┤\n",
      "│ eclipse  │      256 │     256 │        0.00 │ 109.05 │ 109.52 │ 39.85 │  133.59 │\n",
      "├──────────┼──────────┼─────────┼─────────────┼────────┼────────┼───────┼─────────┤\n",
      "│ trump    │      183 │     275 │        0.00 │  97.01 │  98.99 │ 90.92 │    0.00 │\n",
      "╘══════════╧══════════╧═════════╧═════════════╧════════╧════════╧═══════╧═════════╛\n"
     ]
    }
   ],
   "source": [
    "#Itero sulla cartella \"images\" usando \"glob.glob\" che mi restituisce tutti i file presenti sulla cartella(path compreso)\n",
    "#Nello stesso ciclo for apro ogni file tramite \"Image.open\" e li trasformo in array\n",
    "#Ottengo il nome di ogni file che inserirò nelle informazioni richieste da stampare\n",
    "\n",
    "import glob\n",
    "from PIL import Image\n",
    "import numpy as np\n",
    "\n",
    "list_info = []\n",
    "for filename in glob.glob(os.getcwd()+'\\\\images\\\\*'): \n",
    "    im=Image.open(filename)\n",
    "    im_array = np.array(im)\n",
    "    filenames = os.path.basename(filename)\n",
    "    nome = os.path.splitext(filenames)[0] \n",
    "    im.close()\n",
    "\n",
    "#Creo un dizionario che ha come chiavi tutti i dati che servono da stampare\n",
    "#Tramite \"im_array.shape\" ottengo altezza e larghezza di ogni immagine\n",
    "#Se l'array è bidimensionale faccio la media di tutti i valori dell'array e ottengo il valore della scala di grigi\n",
    "#Se l'array è tridimensionale faccio la media di tutti i valori dell'array unendoli in una tupla e ottengo i valori 'R,G,B'\n",
    "#Se l'array è tridimensionale ed ha 4 livelli di colore ottengo anche il canale 'ALPHA'\n",
    "#Aggiungo tutti i dati ad una lista precedentemente creata\n",
    "\n",
    "    \n",
    "    im_info = {'name': nome,'height':0,'width':0,'grayscale':0,'R':0,'G':0,'B':0,'ALPHA':0}\n",
    "    im_info['height'] = im_array.shape[0]\n",
    "    im_info['width']=im_array.shape[1]\n",
    "    if len(im_array.shape) == 2:\n",
    "        im_info['grayscale'] = np.mean(im_array)\n",
    "    elif len(im_array.shape) >= 3:\n",
    "        im_info['R'] = np.mean(im_array,axis = (0,1))[0]\n",
    "        im_info['G'] = np.mean(im_array,axis = (0,1))[1]\n",
    "        im_info['B'] = np.mean(im_array,axis = (0,1))[2]\n",
    "        if im_array.shape[2] == 4:\n",
    "            im_info['ALPHA'] = np.mean(im_array,axis = (0,1))[3]\n",
    "        \n",
    "    list_info.append(im_info)\n",
    "\n",
    "#Creo una tabella tramite la libreria \"tabulate\" inserendo la lista di dizionari creata precedentemente\n",
    "#La tabella avrà come colonne le chiavi dei dizionari\n",
    "\n",
    "from tabulate import tabulate    \n",
    "\n",
    "print(tabulate(list_info, floatfmt=\".2f\",tablefmt='fancy_grid',headers = \"keys\"))"
   ]
  }
 ],
 "metadata": {
  "kernelspec": {
   "display_name": "Python 3 (ipykernel)",
   "language": "python",
   "name": "python3"
  },
  "language_info": {
   "codemirror_mode": {
    "name": "ipython",
    "version": 3
   },
   "file_extension": ".py",
   "mimetype": "text/x-python",
   "name": "python",
   "nbconvert_exporter": "python",
   "pygments_lexer": "ipython3",
   "version": "3.11.0"
  }
 },
 "nbformat": 4,
 "nbformat_minor": 5
}
