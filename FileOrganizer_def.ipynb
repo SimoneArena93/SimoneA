{
 "cells": [
  {
   "cell_type": "markdown",
   "id": "80b80018",
   "metadata": {},
   "source": [
    "Lo script seguente itera in ordine alfabetico i file inseriti nella cartella \"files\" e, a seconda del tipo, li sposta nella relativa sottocartella. Se la sottocartella non esiste lo script la crea automaticamente. Viene anche creato un file \"recap.csv\" in cui ogni volta che viene spostato un file viene aggiornato con il relativo nome, tipo e dimensione."
   ]
  },
  {
   "cell_type": "code",
   "execution_count": 1,
   "id": "ecd58803",
   "metadata": {},
   "outputs": [],
   "source": [
    "import os\n",
    "import shutil\n",
    "import csv"
   ]
  },
  {
   "cell_type": "code",
   "execution_count": 2,
   "id": "19e8c628",
   "metadata": {},
   "outputs": [],
   "source": [
    "#mi sposto nella cartella files\n",
    "os.chdir('files')"
   ]
  },
  {
   "cell_type": "code",
   "execution_count": 21,
   "id": "910d68d1",
   "metadata": {},
   "outputs": [],
   "source": [
    "#Creo liste formati accettati\n",
    "img_exts = [\".jpg\",\".jpeg\",\".png\"]\n",
    "doc_exts = [\".odt\",\".txt\"]\n",
    "audio_exts = [\".mp3\"]"
   ]
  },
  {
   "cell_type": "code",
   "execution_count": 22,
   "id": "04ca83bc",
   "metadata": {},
   "outputs": [],
   "source": [
    "#se il file di recap non esiste creo il file di recap, se esiste già lo apro\n",
    "if not os.path.exists('recap.csv'):\n",
    "    recap = open('recap.csv', 'w', newline='')#lo creo: 'w' sta per 'write'\n",
    "    writer = csv.writer(recap)\n",
    "    writer.writerow(['name', 'type', 'size (B)'])#scrivo header del csv\n",
    "else:\n",
    "    recap = open('recap.csv', 'a', newline='')#lo apro in 'append' con 'a'\n",
    "    writer = csv.writer(recap)"
   ]
  },
  {
   "cell_type": "code",
   "execution_count": 23,
   "id": "bbb3381f",
   "metadata": {
    "scrolled": false
   },
   "outputs": [
    {
     "name": "stdout",
     "output_type": "stream",
     "text": [
      "Formato non riconosciuto.\n",
      "bw type:image size:94926B\n",
      "ciao type:doc size:12B\n",
      "daffodil type:image size:24657B\n",
      "Formato non riconosciuto.\n",
      "eclipse type:image size:64243B\n",
      "Formato non riconosciuto.\n",
      "pippo type:doc size:8299B\n",
      "Formato non riconosciuto.\n",
      "song1 type:audio size:1087849B\n",
      "song2 type:audio size:764176B\n",
      "trump type:image size:10195B\n"
     ]
    }
   ],
   "source": [
    "#creo le sottocartelle\n",
    "for dirname in ['audio', 'docs', 'images']:\n",
    "    if not os.path.exists(dirname):#...se queste non esistono\n",
    "        os.makedirs(dirname)\n",
    "#itero dentro cartella corrente (cioè files: mi sono spostato dentro all'inizio)\n",
    "for f in sorted(os.listdir('.')):\n",
    "    \n",
    "    #separo il nome del file dall'estensione\n",
    "    name, ext = os.path.splitext(f)\n",
    "    \n",
    "    if ext in img_exts:#check estensione\n",
    "        size = os.path.getsize(f)#calcolo dimensione in byte\n",
    "        print(f'{name} type:image size:{size}B')#stampo info\n",
    "        writer.writerow([name, 'image', size])#aggiorno recap\n",
    "        shutil.move(f, 'images/')#sposto in sottocartella\n",
    "        \n",
    "    elif ext in doc_exts:\n",
    "        size = os.path.getsize(f)\n",
    "        print(f'{name} type:doc size:{size}B')\n",
    "        writer.writerow([name, 'doc', size])\n",
    "        shutil.move(f, 'docs/')\n",
    "        \n",
    "    elif ext in audio_exts:\n",
    "        size = os.path.getsize(f)\n",
    "        print(f'{name} type:audio size:{size}B')\n",
    "        writer.writerow([name, 'audio', size])\n",
    "        shutil.move(f, 'audio/')\n",
    "        \n",
    "    else:\n",
    "        print('Formato non riconosciuto.')\n",
    "    \n",
    "recap.close()"
   ]
  },
  {
   "cell_type": "markdown",
   "id": "7bf303e4",
   "metadata": {},
   "source": [
    "Il seguente script itera invece sulla cartella immagini e costruisce una tabella riassuntiva contentente le informazioni di colore dei file."
   ]
  },
  {
   "cell_type": "code",
   "execution_count": 24,
   "id": "741155fb",
   "metadata": {},
   "outputs": [],
   "source": [
    "from PIL import Image\n",
    "import numpy as np\n",
    "from tabulate import tabulate"
   ]
  },
  {
   "cell_type": "code",
   "execution_count": 33,
   "id": "371e0ec1",
   "metadata": {},
   "outputs": [
    {
     "name": "stdout",
     "output_type": "stream",
     "text": [
      "╒══════════╤══════════╤═════════╤═════════════╤════════╤════════╤═══════╤═════════╕\n",
      "│ name     │   height │   width │   grayscale │      R │      G │     B │   ALPHA │\n",
      "╞══════════╪══════════╪═════════╪═════════════╪════════╪════════╪═══════╪═════════╡\n",
      "│ bw       │      512 │     512 │       21.48 │   0.00 │   0.00 │  0.00 │    0.00 │\n",
      "├──────────┼──────────┼─────────┼─────────────┼────────┼────────┼───────┼─────────┤\n",
      "│ daffodil │      500 │     335 │        0.00 │ 109.23 │  85.52 │  4.77 │    0.00 │\n",
      "├──────────┼──────────┼─────────┼─────────────┼────────┼────────┼───────┼─────────┤\n",
      "│ eclipse  │      256 │     256 │        0.00 │ 109.05 │ 109.52 │ 39.85 │  133.59 │\n",
      "├──────────┼──────────┼─────────┼─────────────┼────────┼────────┼───────┼─────────┤\n",
      "│ trump    │      183 │     275 │        0.00 │  97.01 │  98.99 │ 90.92 │    0.00 │\n",
      "╘══════════╧══════════╧═════════╧═════════════╧════════╧════════╧═══════╧═════════╛\n"
     ]
    }
   ],
   "source": [
    "#Itero sulla cartella \"images\" usando \"glob.glob\" che mi restituisce tutti i file presenti sulla cartella(path compreso)\n",
    "#Nello stesso ciclo for apro ogni file tramite \"Image.open\" e li trasformo in array\n",
    "#Ottengo il nome di ogni file che inserirò nelle informazioni richieste da stampare\n",
    "\n",
    "list_info = []\n",
    "\n",
    "for f in sorted(os.listdir('images')):\n",
    "    nome = os.path.splitext(f)[0] \n",
    "    img = Image.open(os.path.join('images', f))#uso join per costruire nome file relativo a sottocartella\n",
    "    im_array = np.array(img)\n",
    "\n",
    "#Creo un dizionario che ha come chiavi tutti i dati che servono da stampare\n",
    "#Tramite \"im_array.shape\" ottengo altezza e larghezza di ogni immagine\n",
    "#Se l'array è bidimensionale faccio la media di tutti i valori dell'array e ottengo il valore della scala di grigi\n",
    "#Se l'array è tridimensionale faccio la media di tutti i valori dell'array unendoli in una tupla e ottengo i valori 'R,G,B'\n",
    "#Se l'array è tridimensionale ed ha 4 livelli di colore ottengo anche il canale 'ALPHA'\n",
    "#Aggiungo tutti i dati ad una lista precedentemente creata\n",
    "\n",
    "    \n",
    "    im_info = {'name': nome,'height':0,'width':0,'grayscale':0,'R':0,'G':0,'B':0,'ALPHA':0}\n",
    "    im_info['height'] = im_array.shape[0]\n",
    "    im_info['width']=im_array.shape[1]\n",
    "    if im_array.ndim == 2:\n",
    "        im_info['grayscale'] = np.mean(im_array)\n",
    "    elif im_array.ndim == 3:\n",
    "        im_info['R'] = np.mean(im_array,axis = (0,1))[0]\n",
    "        im_info['G'] = np.mean(im_array,axis = (0,1))[1]\n",
    "        im_info['B'] = np.mean(im_array,axis = (0,1))[2]\n",
    "        if im_array.shape[2] == 4:\n",
    "            im_info['ALPHA'] = np.mean(im_array,axis = (0,1))[3]\n",
    "    else:\n",
    "        print(\"Non è un'immagine\")\n",
    "        \n",
    "    list_info.append(im_info)\n",
    "\n",
    "#Creo una tabella tramite la libreria \"tabulate\" inserendo la lista di dizionari creata precedentemente\n",
    "#La tabella avrà come colonne le chiavi dei dizionari\n",
    "\n",
    "    \n",
    "\n",
    "print(tabulate(list_info, floatfmt=\".2f\",tablefmt='fancy_grid',headers = \"keys\"))"
   ]
  },
  {
   "cell_type": "code",
   "execution_count": null,
   "id": "1e6fbdcf",
   "metadata": {},
   "outputs": [],
   "source": []
  }
 ],
 "metadata": {
  "kernelspec": {
   "display_name": "Python 3 (ipykernel)",
   "language": "python",
   "name": "python3"
  },
  "language_info": {
   "codemirror_mode": {
    "name": "ipython",
    "version": 3
   },
   "file_extension": ".py",
   "mimetype": "text/x-python",
   "name": "python",
   "nbconvert_exporter": "python",
   "pygments_lexer": "ipython3",
   "version": "3.11.0"
  }
 },
 "nbformat": 4,
 "nbformat_minor": 5
}
